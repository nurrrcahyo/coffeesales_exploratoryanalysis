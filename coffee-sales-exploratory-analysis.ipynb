{
 "cells": [
  {
   "cell_type": "markdown",
   "id": "21adec09",
   "metadata": {
    "papermill": {
     "duration": 0.010698,
     "end_time": "2024-10-29T04:12:41.120313",
     "exception": false,
     "start_time": "2024-10-29T04:12:41.109615",
     "status": "completed"
    },
    "tags": []
   },
   "source": [
    "# Coffee Sales - Exploratory Data Analysis\n",
    "\n",
    "In this analysis, we will see customer behavior by looking at spending patterns, drink preferences, and arrival times, based on the payment method. By exploring these details, we get a clearer picture of how cash and card users differ in their choices and habits, helping us understand trends that could be useful for targeted decisions."
   ]
  },
  {
   "cell_type": "code",
   "execution_count": 1,
   "id": "c020faae",
   "metadata": {
    "_cell_guid": "b1076dfc-b9ad-4769-8c92-a6c4dae69d19",
    "_uuid": "8f2839f25d086af736a60e9eeb907d3b93b6e0e5",
    "execution": {
     "iopub.execute_input": "2024-10-29T04:12:41.145013Z",
     "iopub.status.busy": "2024-10-29T04:12:41.143685Z",
     "iopub.status.idle": "2024-10-29T04:12:43.618719Z",
     "shell.execute_reply": "2024-10-29T04:12:43.617389Z"
    },
    "papermill": {
     "duration": 2.490242,
     "end_time": "2024-10-29T04:12:43.621268",
     "exception": false,
     "start_time": "2024-10-29T04:12:41.131026",
     "status": "completed"
    },
    "tags": []
   },
   "outputs": [
    {
     "name": "stdout",
     "output_type": "stream",
     "text": [
      "/kaggle/input/coffee-sales/index.csv\n"
     ]
    }
   ],
   "source": [
    "import numpy as np\n",
    "import pandas as pd\n",
    "import matplotlib.pyplot as plt\n",
    "import seaborn as sns\n",
    "import os\n",
    "for dirname, _, filenames in os.walk('/kaggle/input'):\n",
    "    for filename in filenames:\n",
    "        print(os.path.join(dirname, filename))"
   ]
  },
  {
   "cell_type": "markdown",
   "id": "2b151281",
   "metadata": {
    "papermill": {
     "duration": 0.009998,
     "end_time": "2024-10-29T04:12:43.641844",
     "exception": false,
     "start_time": "2024-10-29T04:12:43.631846",
     "status": "completed"
    },
    "tags": []
   },
   "source": [
    "## The Question\n",
    "The Question will be:\n",
    "1. What was the max, min,mean, and the standard deviation of purchase of people using card and cash\n",
    "2. What are the most favourite drink for cash payer and card user to order?\n",
    "3. What does the time distribution of order look like?\n",
    "    * For the total customer\n",
    "    * For the cash payer\n",
    "    * For the card user\n",
    "    \n",
    "The first we need to do is to load the data."
   ]
  },
  {
   "cell_type": "code",
   "execution_count": 2,
   "id": "3ea103e7",
   "metadata": {
    "execution": {
     "iopub.execute_input": "2024-10-29T04:12:43.663899Z",
     "iopub.status.busy": "2024-10-29T04:12:43.663378Z",
     "iopub.status.idle": "2024-10-29T04:12:43.690269Z",
     "shell.execute_reply": "2024-10-29T04:12:43.689266Z"
    },
    "papermill": {
     "duration": 0.041294,
     "end_time": "2024-10-29T04:12:43.693376",
     "exception": false,
     "start_time": "2024-10-29T04:12:43.652082",
     "status": "completed"
    },
    "tags": []
   },
   "outputs": [],
   "source": [
    "coffee_df = pd.read_csv(\"/kaggle/input/coffee-sales/index.csv\")"
   ]
  },
  {
   "cell_type": "markdown",
   "id": "4efea175",
   "metadata": {
    "papermill": {
     "duration": 0.009935,
     "end_time": "2024-10-29T04:12:43.713565",
     "exception": false,
     "start_time": "2024-10-29T04:12:43.703630",
     "status": "completed"
    },
    "tags": []
   },
   "source": [
    "Let's see the sample"
   ]
  },
  {
   "cell_type": "code",
   "execution_count": 3,
   "id": "45f625ea",
   "metadata": {
    "execution": {
     "iopub.execute_input": "2024-10-29T04:12:43.736333Z",
     "iopub.status.busy": "2024-10-29T04:12:43.735640Z",
     "iopub.status.idle": "2024-10-29T04:12:43.768209Z",
     "shell.execute_reply": "2024-10-29T04:12:43.767096Z"
    },
    "papermill": {
     "duration": 0.046312,
     "end_time": "2024-10-29T04:12:43.770364",
     "exception": false,
     "start_time": "2024-10-29T04:12:43.724052",
     "status": "completed"
    },
    "tags": []
   },
   "outputs": [
    {
     "data": {
      "text/html": [
       "<div>\n",
       "<style scoped>\n",
       "    .dataframe tbody tr th:only-of-type {\n",
       "        vertical-align: middle;\n",
       "    }\n",
       "\n",
       "    .dataframe tbody tr th {\n",
       "        vertical-align: top;\n",
       "    }\n",
       "\n",
       "    .dataframe thead th {\n",
       "        text-align: right;\n",
       "    }\n",
       "</style>\n",
       "<table border=\"1\" class=\"dataframe\">\n",
       "  <thead>\n",
       "    <tr style=\"text-align: right;\">\n",
       "      <th></th>\n",
       "      <th>date</th>\n",
       "      <th>datetime</th>\n",
       "      <th>cash_type</th>\n",
       "      <th>card</th>\n",
       "      <th>money</th>\n",
       "      <th>coffee_name</th>\n",
       "    </tr>\n",
       "  </thead>\n",
       "  <tbody>\n",
       "    <tr>\n",
       "      <th>797</th>\n",
       "      <td>2024-06-16</td>\n",
       "      <td>2024-06-16 15:02:36.332</td>\n",
       "      <td>card</td>\n",
       "      <td>ANON-0000-0000-0304</td>\n",
       "      <td>32.82</td>\n",
       "      <td>Americano with Milk</td>\n",
       "    </tr>\n",
       "    <tr>\n",
       "      <th>1039</th>\n",
       "      <td>2024-07-25</td>\n",
       "      <td>2024-07-25 19:21:00.764</td>\n",
       "      <td>card</td>\n",
       "      <td>ANON-0000-0000-0257</td>\n",
       "      <td>32.82</td>\n",
       "      <td>Cappuccino</td>\n",
       "    </tr>\n",
       "    <tr>\n",
       "      <th>927</th>\n",
       "      <td>2024-07-06</td>\n",
       "      <td>2024-07-06 17:15:46.042</td>\n",
       "      <td>card</td>\n",
       "      <td>ANON-0000-0000-0009</td>\n",
       "      <td>32.82</td>\n",
       "      <td>Latte</td>\n",
       "    </tr>\n",
       "    <tr>\n",
       "      <th>587</th>\n",
       "      <td>2024-05-24</td>\n",
       "      <td>2024-05-24 22:30:40.198</td>\n",
       "      <td>card</td>\n",
       "      <td>ANON-0000-0000-0210</td>\n",
       "      <td>32.82</td>\n",
       "      <td>Americano with Milk</td>\n",
       "    </tr>\n",
       "    <tr>\n",
       "      <th>913</th>\n",
       "      <td>2024-07-03</td>\n",
       "      <td>2024-07-03 19:06:09.136</td>\n",
       "      <td>card</td>\n",
       "      <td>ANON-0000-0000-0009</td>\n",
       "      <td>37.72</td>\n",
       "      <td>Latte</td>\n",
       "    </tr>\n",
       "    <tr>\n",
       "      <th>1835</th>\n",
       "      <td>2024-10-08</td>\n",
       "      <td>2024-10-08 12:48:04.520</td>\n",
       "      <td>card</td>\n",
       "      <td>ANON-0000-0000-0225</td>\n",
       "      <td>25.96</td>\n",
       "      <td>Americano</td>\n",
       "    </tr>\n",
       "    <tr>\n",
       "      <th>1606</th>\n",
       "      <td>2024-09-19</td>\n",
       "      <td>2024-09-19 13:45:42.367</td>\n",
       "      <td>card</td>\n",
       "      <td>ANON-0000-0000-0640</td>\n",
       "      <td>23.02</td>\n",
       "      <td>Cortado</td>\n",
       "    </tr>\n",
       "    <tr>\n",
       "      <th>671</th>\n",
       "      <td>2024-06-01</td>\n",
       "      <td>2024-06-01 11:38:09.371</td>\n",
       "      <td>card</td>\n",
       "      <td>ANON-0000-0000-0250</td>\n",
       "      <td>37.72</td>\n",
       "      <td>Latte</td>\n",
       "    </tr>\n",
       "    <tr>\n",
       "      <th>371</th>\n",
       "      <td>2024-04-26</td>\n",
       "      <td>2024-04-26 10:12:50.618</td>\n",
       "      <td>card</td>\n",
       "      <td>ANON-0000-0000-0001</td>\n",
       "      <td>37.72</td>\n",
       "      <td>Latte</td>\n",
       "    </tr>\n",
       "    <tr>\n",
       "      <th>757</th>\n",
       "      <td>2024-06-11</td>\n",
       "      <td>2024-06-11 18:49:36.428</td>\n",
       "      <td>card</td>\n",
       "      <td>ANON-0000-0000-0285</td>\n",
       "      <td>37.72</td>\n",
       "      <td>Latte</td>\n",
       "    </tr>\n",
       "  </tbody>\n",
       "</table>\n",
       "</div>"
      ],
      "text/plain": [
       "            date                 datetime cash_type                 card  \\\n",
       "797   2024-06-16  2024-06-16 15:02:36.332      card  ANON-0000-0000-0304   \n",
       "1039  2024-07-25  2024-07-25 19:21:00.764      card  ANON-0000-0000-0257   \n",
       "927   2024-07-06  2024-07-06 17:15:46.042      card  ANON-0000-0000-0009   \n",
       "587   2024-05-24  2024-05-24 22:30:40.198      card  ANON-0000-0000-0210   \n",
       "913   2024-07-03  2024-07-03 19:06:09.136      card  ANON-0000-0000-0009   \n",
       "1835  2024-10-08  2024-10-08 12:48:04.520      card  ANON-0000-0000-0225   \n",
       "1606  2024-09-19  2024-09-19 13:45:42.367      card  ANON-0000-0000-0640   \n",
       "671   2024-06-01  2024-06-01 11:38:09.371      card  ANON-0000-0000-0250   \n",
       "371   2024-04-26  2024-04-26 10:12:50.618      card  ANON-0000-0000-0001   \n",
       "757   2024-06-11  2024-06-11 18:49:36.428      card  ANON-0000-0000-0285   \n",
       "\n",
       "      money          coffee_name  \n",
       "797   32.82  Americano with Milk  \n",
       "1039  32.82           Cappuccino  \n",
       "927   32.82                Latte  \n",
       "587   32.82  Americano with Milk  \n",
       "913   37.72                Latte  \n",
       "1835  25.96            Americano  \n",
       "1606  23.02              Cortado  \n",
       "671   37.72                Latte  \n",
       "371   37.72                Latte  \n",
       "757   37.72                Latte  "
      ]
     },
     "execution_count": 3,
     "metadata": {},
     "output_type": "execute_result"
    }
   ],
   "source": [
    "coffee_df.sample(10)"
   ]
  },
  {
   "cell_type": "markdown",
   "id": "7f2ffa49",
   "metadata": {
    "papermill": {
     "duration": 0.01013,
     "end_time": "2024-10-29T04:12:43.790924",
     "exception": false,
     "start_time": "2024-10-29T04:12:43.780794",
     "status": "completed"
    },
    "tags": []
   },
   "source": [
    "Let's see how many null values we have."
   ]
  },
  {
   "cell_type": "code",
   "execution_count": 4,
   "id": "a757705a",
   "metadata": {
    "execution": {
     "iopub.execute_input": "2024-10-29T04:12:43.813142Z",
     "iopub.status.busy": "2024-10-29T04:12:43.812766Z",
     "iopub.status.idle": "2024-10-29T04:12:43.821828Z",
     "shell.execute_reply": "2024-10-29T04:12:43.820854Z"
    },
    "papermill": {
     "duration": 0.022731,
     "end_time": "2024-10-29T04:12:43.823948",
     "exception": false,
     "start_time": "2024-10-29T04:12:43.801217",
     "status": "completed"
    },
    "tags": []
   },
   "outputs": [
    {
     "data": {
      "text/plain": [
       "date            0\n",
       "datetime        0\n",
       "cash_type       0\n",
       "card           89\n",
       "money           0\n",
       "coffee_name     0\n",
       "dtype: int64"
      ]
     },
     "execution_count": 4,
     "metadata": {},
     "output_type": "execute_result"
    }
   ],
   "source": [
    "coffee_df.isnull().sum()"
   ]
  },
  {
   "cell_type": "markdown",
   "id": "97621370",
   "metadata": {
    "papermill": {
     "duration": 0.010182,
     "end_time": "2024-10-29T04:12:43.844793",
     "exception": false,
     "start_time": "2024-10-29T04:12:43.834611",
     "status": "completed"
    },
    "tags": []
   },
   "source": [
    "There are 89 null values. But, what are those null values in _card_ column?"
   ]
  },
  {
   "cell_type": "code",
   "execution_count": 5,
   "id": "a79481c9",
   "metadata": {
    "execution": {
     "iopub.execute_input": "2024-10-29T04:12:43.867385Z",
     "iopub.status.busy": "2024-10-29T04:12:43.866972Z",
     "iopub.status.idle": "2024-10-29T04:12:43.884488Z",
     "shell.execute_reply": "2024-10-29T04:12:43.883503Z"
    },
    "papermill": {
     "duration": 0.031413,
     "end_time": "2024-10-29T04:12:43.886721",
     "exception": false,
     "start_time": "2024-10-29T04:12:43.855308",
     "status": "completed"
    },
    "tags": []
   },
   "outputs": [
    {
     "data": {
      "text/html": [
       "<div>\n",
       "<style scoped>\n",
       "    .dataframe tbody tr th:only-of-type {\n",
       "        vertical-align: middle;\n",
       "    }\n",
       "\n",
       "    .dataframe tbody tr th {\n",
       "        vertical-align: top;\n",
       "    }\n",
       "\n",
       "    .dataframe thead th {\n",
       "        text-align: right;\n",
       "    }\n",
       "</style>\n",
       "<table border=\"1\" class=\"dataframe\">\n",
       "  <thead>\n",
       "    <tr style=\"text-align: right;\">\n",
       "      <th></th>\n",
       "      <th>date</th>\n",
       "      <th>datetime</th>\n",
       "      <th>cash_type</th>\n",
       "      <th>card</th>\n",
       "      <th>money</th>\n",
       "      <th>coffee_name</th>\n",
       "    </tr>\n",
       "  </thead>\n",
       "  <tbody>\n",
       "    <tr>\n",
       "      <th>0</th>\n",
       "      <td>2024-03-01</td>\n",
       "      <td>2024-03-01 10:15:50.520</td>\n",
       "      <td>card</td>\n",
       "      <td>ANON-0000-0000-0001</td>\n",
       "      <td>38.70</td>\n",
       "      <td>Latte</td>\n",
       "    </tr>\n",
       "    <tr>\n",
       "      <th>718</th>\n",
       "      <td>2024-06-06</td>\n",
       "      <td>2024-06-06 10:36:09.667</td>\n",
       "      <td>card</td>\n",
       "      <td>ANON-0000-0000-0001</td>\n",
       "      <td>37.72</td>\n",
       "      <td>Latte</td>\n",
       "    </tr>\n",
       "    <tr>\n",
       "      <th>710</th>\n",
       "      <td>2024-06-05</td>\n",
       "      <td>2024-06-05 10:28:50.620</td>\n",
       "      <td>card</td>\n",
       "      <td>ANON-0000-0000-0001</td>\n",
       "      <td>37.72</td>\n",
       "      <td>Latte</td>\n",
       "    </tr>\n",
       "    <tr>\n",
       "      <th>686</th>\n",
       "      <td>2024-06-03</td>\n",
       "      <td>2024-06-03 10:12:04.141</td>\n",
       "      <td>card</td>\n",
       "      <td>ANON-0000-0000-0001</td>\n",
       "      <td>37.72</td>\n",
       "      <td>Latte</td>\n",
       "    </tr>\n",
       "    <tr>\n",
       "      <th>647</th>\n",
       "      <td>2024-05-30</td>\n",
       "      <td>2024-05-30 09:47:59.092</td>\n",
       "      <td>card</td>\n",
       "      <td>ANON-0000-0000-0001</td>\n",
       "      <td>37.72</td>\n",
       "      <td>Latte</td>\n",
       "    </tr>\n",
       "    <tr>\n",
       "      <th>...</th>\n",
       "      <td>...</td>\n",
       "      <td>...</td>\n",
       "      <td>...</td>\n",
       "      <td>...</td>\n",
       "      <td>...</td>\n",
       "      <td>...</td>\n",
       "    </tr>\n",
       "    <tr>\n",
       "      <th>657</th>\n",
       "      <td>2024-05-31</td>\n",
       "      <td>2024-05-31 09:23:58.791</td>\n",
       "      <td>cash</td>\n",
       "      <td>NaN</td>\n",
       "      <td>39.00</td>\n",
       "      <td>Latte</td>\n",
       "    </tr>\n",
       "    <tr>\n",
       "      <th>677</th>\n",
       "      <td>2024-06-01</td>\n",
       "      <td>2024-06-01 20:54:59.267</td>\n",
       "      <td>cash</td>\n",
       "      <td>NaN</td>\n",
       "      <td>39.00</td>\n",
       "      <td>Cocoa</td>\n",
       "    </tr>\n",
       "    <tr>\n",
       "      <th>685</th>\n",
       "      <td>2024-06-02</td>\n",
       "      <td>2024-06-02 22:43:10.636</td>\n",
       "      <td>cash</td>\n",
       "      <td>NaN</td>\n",
       "      <td>34.00</td>\n",
       "      <td>Americano with Milk</td>\n",
       "    </tr>\n",
       "    <tr>\n",
       "      <th>691</th>\n",
       "      <td>2024-06-03</td>\n",
       "      <td>2024-06-03 21:42:51.734</td>\n",
       "      <td>cash</td>\n",
       "      <td>NaN</td>\n",
       "      <td>34.00</td>\n",
       "      <td>Americano with Milk</td>\n",
       "    </tr>\n",
       "    <tr>\n",
       "      <th>692</th>\n",
       "      <td>2024-06-03</td>\n",
       "      <td>2024-06-03 21:43:37.471</td>\n",
       "      <td>cash</td>\n",
       "      <td>NaN</td>\n",
       "      <td>34.00</td>\n",
       "      <td>Americano with Milk</td>\n",
       "    </tr>\n",
       "  </tbody>\n",
       "</table>\n",
       "<p>2026 rows × 6 columns</p>\n",
       "</div>"
      ],
      "text/plain": [
       "           date                 datetime cash_type                 card  \\\n",
       "0    2024-03-01  2024-03-01 10:15:50.520      card  ANON-0000-0000-0001   \n",
       "718  2024-06-06  2024-06-06 10:36:09.667      card  ANON-0000-0000-0001   \n",
       "710  2024-06-05  2024-06-05 10:28:50.620      card  ANON-0000-0000-0001   \n",
       "686  2024-06-03  2024-06-03 10:12:04.141      card  ANON-0000-0000-0001   \n",
       "647  2024-05-30  2024-05-30 09:47:59.092      card  ANON-0000-0000-0001   \n",
       "..          ...                      ...       ...                  ...   \n",
       "657  2024-05-31  2024-05-31 09:23:58.791      cash                  NaN   \n",
       "677  2024-06-01  2024-06-01 20:54:59.267      cash                  NaN   \n",
       "685  2024-06-02  2024-06-02 22:43:10.636      cash                  NaN   \n",
       "691  2024-06-03  2024-06-03 21:42:51.734      cash                  NaN   \n",
       "692  2024-06-03  2024-06-03 21:43:37.471      cash                  NaN   \n",
       "\n",
       "     money          coffee_name  \n",
       "0    38.70                Latte  \n",
       "718  37.72                Latte  \n",
       "710  37.72                Latte  \n",
       "686  37.72                Latte  \n",
       "647  37.72                Latte  \n",
       "..     ...                  ...  \n",
       "657  39.00                Latte  \n",
       "677  39.00                Cocoa  \n",
       "685  34.00  Americano with Milk  \n",
       "691  34.00  Americano with Milk  \n",
       "692  34.00  Americano with Milk  \n",
       "\n",
       "[2026 rows x 6 columns]"
      ]
     },
     "execution_count": 5,
     "metadata": {},
     "output_type": "execute_result"
    }
   ],
   "source": [
    "coffee_df.sort_values('card')"
   ]
  },
  {
   "cell_type": "markdown",
   "id": "1bfe614a",
   "metadata": {
    "papermill": {
     "duration": 0.010643,
     "end_time": "2024-10-29T04:12:43.908537",
     "exception": false,
     "start_time": "2024-10-29T04:12:43.897894",
     "status": "completed"
    },
    "tags": []
   },
   "source": [
    "It's likely that those null values is because it's the card number of cash payer, which is none."
   ]
  },
  {
   "cell_type": "code",
   "execution_count": 6,
   "id": "e12d9e94",
   "metadata": {
    "execution": {
     "iopub.execute_input": "2024-10-29T04:12:43.931506Z",
     "iopub.status.busy": "2024-10-29T04:12:43.931085Z",
     "iopub.status.idle": "2024-10-29T04:12:43.939498Z",
     "shell.execute_reply": "2024-10-29T04:12:43.938481Z"
    },
    "papermill": {
     "duration": 0.022422,
     "end_time": "2024-10-29T04:12:43.941634",
     "exception": false,
     "start_time": "2024-10-29T04:12:43.919212",
     "status": "completed"
    },
    "tags": []
   },
   "outputs": [
    {
     "data": {
      "text/plain": [
       "89"
      ]
     },
     "execution_count": 6,
     "metadata": {},
     "output_type": "execute_result"
    }
   ],
   "source": [
    "coffee_df[coffee_df['cash_type']=='cash']['cash_type'].count()"
   ]
  },
  {
   "cell_type": "markdown",
   "id": "dbbe84ab",
   "metadata": {
    "papermill": {
     "duration": 0.010564,
     "end_time": "2024-10-29T04:12:43.963215",
     "exception": false,
     "start_time": "2024-10-29T04:12:43.952651",
     "status": "completed"
    },
    "tags": []
   },
   "source": [
    "Yup, the number of cash payer matches the number of null values we have. We can further verify it below"
   ]
  },
  {
   "cell_type": "code",
   "execution_count": 7,
   "id": "3680590d",
   "metadata": {
    "execution": {
     "iopub.execute_input": "2024-10-29T04:12:43.987210Z",
     "iopub.status.busy": "2024-10-29T04:12:43.986361Z",
     "iopub.status.idle": "2024-10-29T04:12:44.002008Z",
     "shell.execute_reply": "2024-10-29T04:12:44.000992Z"
    },
    "papermill": {
     "duration": 0.029975,
     "end_time": "2024-10-29T04:12:44.004147",
     "exception": false,
     "start_time": "2024-10-29T04:12:43.974172",
     "status": "completed"
    },
    "tags": []
   },
   "outputs": [
    {
     "data": {
      "text/html": [
       "<div>\n",
       "<style scoped>\n",
       "    .dataframe tbody tr th:only-of-type {\n",
       "        vertical-align: middle;\n",
       "    }\n",
       "\n",
       "    .dataframe tbody tr th {\n",
       "        vertical-align: top;\n",
       "    }\n",
       "\n",
       "    .dataframe thead th {\n",
       "        text-align: right;\n",
       "    }\n",
       "</style>\n",
       "<table border=\"1\" class=\"dataframe\">\n",
       "  <thead>\n",
       "    <tr style=\"text-align: right;\">\n",
       "      <th></th>\n",
       "      <th>cash_type</th>\n",
       "      <th>card</th>\n",
       "    </tr>\n",
       "  </thead>\n",
       "  <tbody>\n",
       "    <tr>\n",
       "      <th>287</th>\n",
       "      <td>cash</td>\n",
       "      <td>NaN</td>\n",
       "    </tr>\n",
       "    <tr>\n",
       "      <th>220</th>\n",
       "      <td>cash</td>\n",
       "      <td>NaN</td>\n",
       "    </tr>\n",
       "    <tr>\n",
       "      <th>285</th>\n",
       "      <td>cash</td>\n",
       "      <td>NaN</td>\n",
       "    </tr>\n",
       "    <tr>\n",
       "      <th>105</th>\n",
       "      <td>cash</td>\n",
       "      <td>NaN</td>\n",
       "    </tr>\n",
       "    <tr>\n",
       "      <th>353</th>\n",
       "      <td>cash</td>\n",
       "      <td>NaN</td>\n",
       "    </tr>\n",
       "    <tr>\n",
       "      <th>...</th>\n",
       "      <td>...</td>\n",
       "      <td>...</td>\n",
       "    </tr>\n",
       "    <tr>\n",
       "      <th>588</th>\n",
       "      <td>cash</td>\n",
       "      <td>NaN</td>\n",
       "    </tr>\n",
       "    <tr>\n",
       "      <th>164</th>\n",
       "      <td>cash</td>\n",
       "      <td>NaN</td>\n",
       "    </tr>\n",
       "    <tr>\n",
       "      <th>442</th>\n",
       "      <td>cash</td>\n",
       "      <td>NaN</td>\n",
       "    </tr>\n",
       "    <tr>\n",
       "      <th>190</th>\n",
       "      <td>cash</td>\n",
       "      <td>NaN</td>\n",
       "    </tr>\n",
       "    <tr>\n",
       "      <th>200</th>\n",
       "      <td>cash</td>\n",
       "      <td>NaN</td>\n",
       "    </tr>\n",
       "  </tbody>\n",
       "</table>\n",
       "<p>89 rows × 2 columns</p>\n",
       "</div>"
      ],
      "text/plain": [
       "    cash_type card\n",
       "287      cash  NaN\n",
       "220      cash  NaN\n",
       "285      cash  NaN\n",
       "105      cash  NaN\n",
       "353      cash  NaN\n",
       "..        ...  ...\n",
       "588      cash  NaN\n",
       "164      cash  NaN\n",
       "442      cash  NaN\n",
       "190      cash  NaN\n",
       "200      cash  NaN\n",
       "\n",
       "[89 rows x 2 columns]"
      ]
     },
     "execution_count": 7,
     "metadata": {},
     "output_type": "execute_result"
    }
   ],
   "source": [
    "coffee_df[coffee_df['cash_type']=='cash'][['cash_type','card']].sample(89)"
   ]
  },
  {
   "cell_type": "markdown",
   "id": "58b6d662",
   "metadata": {
    "papermill": {
     "duration": 0.010668,
     "end_time": "2024-10-29T04:12:44.025943",
     "exception": false,
     "start_time": "2024-10-29T04:12:44.015275",
     "status": "completed"
    },
    "tags": []
   },
   "source": [
    "Yes. It turns out that the null values is because they are card numbers for the customer that paid without card."
   ]
  },
  {
   "cell_type": "markdown",
   "id": "1bd5d79d",
   "metadata": {
    "papermill": {
     "duration": 0.010632,
     "end_time": "2024-10-29T04:12:44.047561",
     "exception": false,
     "start_time": "2024-10-29T04:12:44.036929",
     "status": "completed"
    },
    "tags": []
   },
   "source": [
    "## Summary Statistics"
   ]
  },
  {
   "cell_type": "code",
   "execution_count": 8,
   "id": "613bc764",
   "metadata": {
    "execution": {
     "iopub.execute_input": "2024-10-29T04:12:44.071355Z",
     "iopub.status.busy": "2024-10-29T04:12:44.070959Z",
     "iopub.status.idle": "2024-10-29T04:12:44.087394Z",
     "shell.execute_reply": "2024-10-29T04:12:44.086279Z"
    },
    "papermill": {
     "duration": 0.03097,
     "end_time": "2024-10-29T04:12:44.089576",
     "exception": false,
     "start_time": "2024-10-29T04:12:44.058606",
     "status": "completed"
    },
    "tags": []
   },
   "outputs": [
    {
     "data": {
      "text/html": [
       "<div>\n",
       "<style scoped>\n",
       "    .dataframe tbody tr th:only-of-type {\n",
       "        vertical-align: middle;\n",
       "    }\n",
       "\n",
       "    .dataframe tbody tr th {\n",
       "        vertical-align: top;\n",
       "    }\n",
       "\n",
       "    .dataframe thead th {\n",
       "        text-align: right;\n",
       "    }\n",
       "</style>\n",
       "<table border=\"1\" class=\"dataframe\">\n",
       "  <thead>\n",
       "    <tr style=\"text-align: right;\">\n",
       "      <th></th>\n",
       "      <th>money</th>\n",
       "    </tr>\n",
       "  </thead>\n",
       "  <tbody>\n",
       "    <tr>\n",
       "      <th>count</th>\n",
       "      <td>2026.000000</td>\n",
       "    </tr>\n",
       "    <tr>\n",
       "      <th>mean</th>\n",
       "      <td>31.670424</td>\n",
       "    </tr>\n",
       "    <tr>\n",
       "      <th>std</th>\n",
       "      <td>5.212254</td>\n",
       "    </tr>\n",
       "    <tr>\n",
       "      <th>min</th>\n",
       "      <td>18.120000</td>\n",
       "    </tr>\n",
       "    <tr>\n",
       "      <th>25%</th>\n",
       "      <td>27.920000</td>\n",
       "    </tr>\n",
       "    <tr>\n",
       "      <th>50%</th>\n",
       "      <td>32.820000</td>\n",
       "    </tr>\n",
       "    <tr>\n",
       "      <th>75%</th>\n",
       "      <td>35.760000</td>\n",
       "    </tr>\n",
       "    <tr>\n",
       "      <th>max</th>\n",
       "      <td>40.000000</td>\n",
       "    </tr>\n",
       "  </tbody>\n",
       "</table>\n",
       "</div>"
      ],
      "text/plain": [
       "             money\n",
       "count  2026.000000\n",
       "mean     31.670424\n",
       "std       5.212254\n",
       "min      18.120000\n",
       "25%      27.920000\n",
       "50%      32.820000\n",
       "75%      35.760000\n",
       "max      40.000000"
      ]
     },
     "execution_count": 8,
     "metadata": {},
     "output_type": "execute_result"
    }
   ],
   "source": [
    "coffee_df.describe()"
   ]
  },
  {
   "cell_type": "code",
   "execution_count": 9,
   "id": "0d38eed1",
   "metadata": {
    "execution": {
     "iopub.execute_input": "2024-10-29T04:12:44.114465Z",
     "iopub.status.busy": "2024-10-29T04:12:44.113628Z",
     "iopub.status.idle": "2024-10-29T04:12:44.138637Z",
     "shell.execute_reply": "2024-10-29T04:12:44.137504Z"
    },
    "papermill": {
     "duration": 0.039964,
     "end_time": "2024-10-29T04:12:44.140897",
     "exception": false,
     "start_time": "2024-10-29T04:12:44.100933",
     "status": "completed"
    },
    "tags": []
   },
   "outputs": [
    {
     "data": {
      "text/html": [
       "<div>\n",
       "<style scoped>\n",
       "    .dataframe tbody tr th:only-of-type {\n",
       "        vertical-align: middle;\n",
       "    }\n",
       "\n",
       "    .dataframe tbody tr th {\n",
       "        vertical-align: top;\n",
       "    }\n",
       "\n",
       "    .dataframe thead th {\n",
       "        text-align: right;\n",
       "    }\n",
       "</style>\n",
       "<table border=\"1\" class=\"dataframe\">\n",
       "  <thead>\n",
       "    <tr style=\"text-align: right;\">\n",
       "      <th></th>\n",
       "      <th>date</th>\n",
       "      <th>datetime</th>\n",
       "      <th>cash_type</th>\n",
       "      <th>card</th>\n",
       "      <th>coffee_name</th>\n",
       "    </tr>\n",
       "  </thead>\n",
       "  <tbody>\n",
       "    <tr>\n",
       "      <th>count</th>\n",
       "      <td>2026</td>\n",
       "      <td>2026</td>\n",
       "      <td>2026</td>\n",
       "      <td>1937</td>\n",
       "      <td>2026</td>\n",
       "    </tr>\n",
       "    <tr>\n",
       "      <th>unique</th>\n",
       "      <td>231</td>\n",
       "      <td>2026</td>\n",
       "      <td>2</td>\n",
       "      <td>792</td>\n",
       "      <td>8</td>\n",
       "    </tr>\n",
       "    <tr>\n",
       "      <th>top</th>\n",
       "      <td>2024-10-11</td>\n",
       "      <td>2024-03-01 10:15:50.520</td>\n",
       "      <td>card</td>\n",
       "      <td>ANON-0000-0000-0012</td>\n",
       "      <td>Americano with Milk</td>\n",
       "    </tr>\n",
       "    <tr>\n",
       "      <th>freq</th>\n",
       "      <td>26</td>\n",
       "      <td>1</td>\n",
       "      <td>1937</td>\n",
       "      <td>110</td>\n",
       "      <td>492</td>\n",
       "    </tr>\n",
       "  </tbody>\n",
       "</table>\n",
       "</div>"
      ],
      "text/plain": [
       "              date                 datetime cash_type                 card  \\\n",
       "count         2026                     2026      2026                 1937   \n",
       "unique         231                     2026         2                  792   \n",
       "top     2024-10-11  2024-03-01 10:15:50.520      card  ANON-0000-0000-0012   \n",
       "freq            26                        1      1937                  110   \n",
       "\n",
       "                coffee_name  \n",
       "count                  2026  \n",
       "unique                    8  \n",
       "top     Americano with Milk  \n",
       "freq                    492  "
      ]
     },
     "execution_count": 9,
     "metadata": {},
     "output_type": "execute_result"
    }
   ],
   "source": [
    "coffee_df[['date','datetime','cash_type','card','coffee_name']].describe()"
   ]
  },
  {
   "cell_type": "markdown",
   "id": "bc0ecb24",
   "metadata": {
    "papermill": {
     "duration": 0.011393,
     "end_time": "2024-10-29T04:12:44.165493",
     "exception": false,
     "start_time": "2024-10-29T04:12:44.154100",
     "status": "completed"
    },
    "tags": []
   },
   "source": [
    "Based on this brief summary, we can tell that;\n",
    "1. The most visited day was October 11th 2024 (per Oct. 28th 2024)\n",
    "2. Customers tend to pay with card\n",
    "3. The customer who visited the most is the person with card number 0012\n",
    "4. Americano with Milk is the most ordered coffee in this coffee shop"
   ]
  },
  {
   "cell_type": "markdown",
   "id": "552d3b64",
   "metadata": {
    "papermill": {
     "duration": 0.011353,
     "end_time": "2024-10-29T04:12:44.188642",
     "exception": false,
     "start_time": "2024-10-29T04:12:44.177289",
     "status": "completed"
    },
    "tags": []
   },
   "source": [
    "### Changing Data Type\n",
    "Now, let's change the data types of some columns to get better work"
   ]
  },
  {
   "cell_type": "code",
   "execution_count": 10,
   "id": "369ef989",
   "metadata": {
    "execution": {
     "iopub.execute_input": "2024-10-29T04:12:44.213521Z",
     "iopub.status.busy": "2024-10-29T04:12:44.213091Z",
     "iopub.status.idle": "2024-10-29T04:12:44.221956Z",
     "shell.execute_reply": "2024-10-29T04:12:44.220921Z"
    },
    "papermill": {
     "duration": 0.023829,
     "end_time": "2024-10-29T04:12:44.224056",
     "exception": false,
     "start_time": "2024-10-29T04:12:44.200227",
     "status": "completed"
    },
    "tags": []
   },
   "outputs": [
    {
     "data": {
      "text/plain": [
       "date        object\n",
       "datetime    object\n",
       "dtype: object"
      ]
     },
     "execution_count": 10,
     "metadata": {},
     "output_type": "execute_result"
    }
   ],
   "source": [
    "#checking the original types of the columns\n",
    "coffee_df[['date','datetime']].dtypes"
   ]
  },
  {
   "cell_type": "code",
   "execution_count": 11,
   "id": "9f26cc22",
   "metadata": {
    "execution": {
     "iopub.execute_input": "2024-10-29T04:12:44.249269Z",
     "iopub.status.busy": "2024-10-29T04:12:44.248859Z",
     "iopub.status.idle": "2024-10-29T04:12:44.264066Z",
     "shell.execute_reply": "2024-10-29T04:12:44.262989Z"
    },
    "papermill": {
     "duration": 0.030383,
     "end_time": "2024-10-29T04:12:44.266198",
     "exception": false,
     "start_time": "2024-10-29T04:12:44.235815",
     "status": "completed"
    },
    "tags": []
   },
   "outputs": [],
   "source": [
    "#changing the data type into Pandas datetime\n",
    "coffee_df['date'] = pd.to_datetime(coffee_df['date'])\n",
    "coffee_df['datetime'] = pd.to_datetime(coffee_df['datetime'])"
   ]
  },
  {
   "cell_type": "code",
   "execution_count": 12,
   "id": "1b36d237",
   "metadata": {
    "execution": {
     "iopub.execute_input": "2024-10-29T04:12:44.291364Z",
     "iopub.status.busy": "2024-10-29T04:12:44.290949Z",
     "iopub.status.idle": "2024-10-29T04:12:44.300370Z",
     "shell.execute_reply": "2024-10-29T04:12:44.299249Z"
    },
    "papermill": {
     "duration": 0.024532,
     "end_time": "2024-10-29T04:12:44.302517",
     "exception": false,
     "start_time": "2024-10-29T04:12:44.277985",
     "status": "completed"
    },
    "tags": []
   },
   "outputs": [
    {
     "data": {
      "text/plain": [
       "date        datetime64[ns]\n",
       "datetime    datetime64[ns]\n",
       "dtype: object"
      ]
     },
     "execution_count": 12,
     "metadata": {},
     "output_type": "execute_result"
    }
   ],
   "source": [
    "coffee_df[['date','datetime']].dtypes"
   ]
  },
  {
   "cell_type": "code",
   "execution_count": 13,
   "id": "9fa0996a",
   "metadata": {
    "execution": {
     "iopub.execute_input": "2024-10-29T04:12:44.327760Z",
     "iopub.status.busy": "2024-10-29T04:12:44.327305Z",
     "iopub.status.idle": "2024-10-29T04:12:44.342271Z",
     "shell.execute_reply": "2024-10-29T04:12:44.341093Z"
    },
    "papermill": {
     "duration": 0.030076,
     "end_time": "2024-10-29T04:12:44.344392",
     "exception": false,
     "start_time": "2024-10-29T04:12:44.314316",
     "status": "completed"
    },
    "tags": []
   },
   "outputs": [
    {
     "data": {
      "text/html": [
       "<div>\n",
       "<style scoped>\n",
       "    .dataframe tbody tr th:only-of-type {\n",
       "        vertical-align: middle;\n",
       "    }\n",
       "\n",
       "    .dataframe tbody tr th {\n",
       "        vertical-align: top;\n",
       "    }\n",
       "\n",
       "    .dataframe thead th {\n",
       "        text-align: right;\n",
       "    }\n",
       "</style>\n",
       "<table border=\"1\" class=\"dataframe\">\n",
       "  <thead>\n",
       "    <tr style=\"text-align: right;\">\n",
       "      <th></th>\n",
       "      <th>date</th>\n",
       "      <th>datetime</th>\n",
       "      <th>cash_type</th>\n",
       "      <th>card</th>\n",
       "      <th>money</th>\n",
       "      <th>coffee_name</th>\n",
       "    </tr>\n",
       "  </thead>\n",
       "  <tbody>\n",
       "    <tr>\n",
       "      <th>0</th>\n",
       "      <td>2024-03-01</td>\n",
       "      <td>2024-03-01 10:15:50.520</td>\n",
       "      <td>card</td>\n",
       "      <td>ANON-0000-0000-0001</td>\n",
       "      <td>38.70</td>\n",
       "      <td>Latte</td>\n",
       "    </tr>\n",
       "    <tr>\n",
       "      <th>1</th>\n",
       "      <td>2024-03-01</td>\n",
       "      <td>2024-03-01 12:19:22.539</td>\n",
       "      <td>card</td>\n",
       "      <td>ANON-0000-0000-0002</td>\n",
       "      <td>38.70</td>\n",
       "      <td>Hot Chocolate</td>\n",
       "    </tr>\n",
       "    <tr>\n",
       "      <th>2</th>\n",
       "      <td>2024-03-01</td>\n",
       "      <td>2024-03-01 12:20:18.089</td>\n",
       "      <td>card</td>\n",
       "      <td>ANON-0000-0000-0002</td>\n",
       "      <td>38.70</td>\n",
       "      <td>Hot Chocolate</td>\n",
       "    </tr>\n",
       "    <tr>\n",
       "      <th>3</th>\n",
       "      <td>2024-03-01</td>\n",
       "      <td>2024-03-01 13:46:33.006</td>\n",
       "      <td>card</td>\n",
       "      <td>ANON-0000-0000-0003</td>\n",
       "      <td>28.90</td>\n",
       "      <td>Americano</td>\n",
       "    </tr>\n",
       "    <tr>\n",
       "      <th>4</th>\n",
       "      <td>2024-03-01</td>\n",
       "      <td>2024-03-01 13:48:14.626</td>\n",
       "      <td>card</td>\n",
       "      <td>ANON-0000-0000-0004</td>\n",
       "      <td>38.70</td>\n",
       "      <td>Latte</td>\n",
       "    </tr>\n",
       "    <tr>\n",
       "      <th>...</th>\n",
       "      <td>...</td>\n",
       "      <td>...</td>\n",
       "      <td>...</td>\n",
       "      <td>...</td>\n",
       "      <td>...</td>\n",
       "      <td>...</td>\n",
       "    </tr>\n",
       "    <tr>\n",
       "      <th>2021</th>\n",
       "      <td>2024-10-20</td>\n",
       "      <td>2024-10-20 21:14:18.045</td>\n",
       "      <td>card</td>\n",
       "      <td>ANON-0000-0000-0789</td>\n",
       "      <td>35.76</td>\n",
       "      <td>Hot Chocolate</td>\n",
       "    </tr>\n",
       "    <tr>\n",
       "      <th>2022</th>\n",
       "      <td>2024-10-20</td>\n",
       "      <td>2024-10-20 21:15:17.780</td>\n",
       "      <td>card</td>\n",
       "      <td>ANON-0000-0000-0790</td>\n",
       "      <td>25.96</td>\n",
       "      <td>Cortado</td>\n",
       "    </tr>\n",
       "    <tr>\n",
       "      <th>2023</th>\n",
       "      <td>2024-10-20</td>\n",
       "      <td>2024-10-20 21:17:26.865</td>\n",
       "      <td>card</td>\n",
       "      <td>ANON-0000-0000-0791</td>\n",
       "      <td>35.76</td>\n",
       "      <td>Cocoa</td>\n",
       "    </tr>\n",
       "    <tr>\n",
       "      <th>2024</th>\n",
       "      <td>2024-10-20</td>\n",
       "      <td>2024-10-20 21:25:00.085</td>\n",
       "      <td>card</td>\n",
       "      <td>ANON-0000-0000-0792</td>\n",
       "      <td>35.76</td>\n",
       "      <td>Latte</td>\n",
       "    </tr>\n",
       "    <tr>\n",
       "      <th>2025</th>\n",
       "      <td>2024-10-20</td>\n",
       "      <td>2024-10-20 22:17:29.041</td>\n",
       "      <td>card</td>\n",
       "      <td>ANON-0000-0000-0550</td>\n",
       "      <td>35.76</td>\n",
       "      <td>Cappuccino</td>\n",
       "    </tr>\n",
       "  </tbody>\n",
       "</table>\n",
       "<p>2026 rows × 6 columns</p>\n",
       "</div>"
      ],
      "text/plain": [
       "           date                datetime cash_type                 card  money  \\\n",
       "0    2024-03-01 2024-03-01 10:15:50.520      card  ANON-0000-0000-0001  38.70   \n",
       "1    2024-03-01 2024-03-01 12:19:22.539      card  ANON-0000-0000-0002  38.70   \n",
       "2    2024-03-01 2024-03-01 12:20:18.089      card  ANON-0000-0000-0002  38.70   \n",
       "3    2024-03-01 2024-03-01 13:46:33.006      card  ANON-0000-0000-0003  28.90   \n",
       "4    2024-03-01 2024-03-01 13:48:14.626      card  ANON-0000-0000-0004  38.70   \n",
       "...         ...                     ...       ...                  ...    ...   \n",
       "2021 2024-10-20 2024-10-20 21:14:18.045      card  ANON-0000-0000-0789  35.76   \n",
       "2022 2024-10-20 2024-10-20 21:15:17.780      card  ANON-0000-0000-0790  25.96   \n",
       "2023 2024-10-20 2024-10-20 21:17:26.865      card  ANON-0000-0000-0791  35.76   \n",
       "2024 2024-10-20 2024-10-20 21:25:00.085      card  ANON-0000-0000-0792  35.76   \n",
       "2025 2024-10-20 2024-10-20 22:17:29.041      card  ANON-0000-0000-0550  35.76   \n",
       "\n",
       "        coffee_name  \n",
       "0             Latte  \n",
       "1     Hot Chocolate  \n",
       "2     Hot Chocolate  \n",
       "3         Americano  \n",
       "4             Latte  \n",
       "...             ...  \n",
       "2021  Hot Chocolate  \n",
       "2022        Cortado  \n",
       "2023          Cocoa  \n",
       "2024          Latte  \n",
       "2025     Cappuccino  \n",
       "\n",
       "[2026 rows x 6 columns]"
      ]
     },
     "execution_count": 13,
     "metadata": {},
     "output_type": "execute_result"
    }
   ],
   "source": [
    "coffee_df"
   ]
  },
  {
   "cell_type": "markdown",
   "id": "3f3b20b7",
   "metadata": {
    "papermill": {
     "duration": 0.011676,
     "end_time": "2024-10-29T04:12:44.368124",
     "exception": false,
     "start_time": "2024-10-29T04:12:44.356448",
     "status": "completed"
    },
    "tags": []
   },
   "source": [
    "Now the _date_ and _datetime_ columns are in the correct data type"
   ]
  },
  {
   "cell_type": "markdown",
   "id": "d96c28ce",
   "metadata": {
    "papermill": {
     "duration": 0.011687,
     "end_time": "2024-10-29T04:12:44.391700",
     "exception": false,
     "start_time": "2024-10-29T04:12:44.380013",
     "status": "completed"
    },
    "tags": []
   },
   "source": [
    "## Summary Statistics: Card vs Cash"
   ]
  },
  {
   "cell_type": "code",
   "execution_count": 14,
   "id": "0942c4b7",
   "metadata": {
    "execution": {
     "iopub.execute_input": "2024-10-29T04:12:44.417302Z",
     "iopub.status.busy": "2024-10-29T04:12:44.416875Z",
     "iopub.status.idle": "2024-10-29T04:12:44.437783Z",
     "shell.execute_reply": "2024-10-29T04:12:44.436425Z"
    },
    "papermill": {
     "duration": 0.036316,
     "end_time": "2024-10-29T04:12:44.440028",
     "exception": false,
     "start_time": "2024-10-29T04:12:44.403712",
     "status": "completed"
    },
    "tags": []
   },
   "outputs": [
    {
     "data": {
      "text/html": [
       "<div>\n",
       "<style scoped>\n",
       "    .dataframe tbody tr th:only-of-type {\n",
       "        vertical-align: middle;\n",
       "    }\n",
       "\n",
       "    .dataframe tbody tr th {\n",
       "        vertical-align: top;\n",
       "    }\n",
       "\n",
       "    .dataframe thead th {\n",
       "        text-align: right;\n",
       "    }\n",
       "</style>\n",
       "<table border=\"1\" class=\"dataframe\">\n",
       "  <thead>\n",
       "    <tr style=\"text-align: right;\">\n",
       "      <th></th>\n",
       "      <th>cash_type</th>\n",
       "      <th>max</th>\n",
       "      <th>min</th>\n",
       "      <th>mean</th>\n",
       "      <th>std</th>\n",
       "    </tr>\n",
       "  </thead>\n",
       "  <tbody>\n",
       "    <tr>\n",
       "      <th>0</th>\n",
       "      <td>card</td>\n",
       "      <td>38.7</td>\n",
       "      <td>18.12</td>\n",
       "      <td>31.480785</td>\n",
       "      <td>5.147928</td>\n",
       "    </tr>\n",
       "    <tr>\n",
       "      <th>1</th>\n",
       "      <td>cash</td>\n",
       "      <td>40.0</td>\n",
       "      <td>24.00</td>\n",
       "      <td>35.797753</td>\n",
       "      <td>4.910980</td>\n",
       "    </tr>\n",
       "  </tbody>\n",
       "</table>\n",
       "</div>"
      ],
      "text/plain": [
       "  cash_type   max    min       mean       std\n",
       "0      card  38.7  18.12  31.480785  5.147928\n",
       "1      cash  40.0  24.00  35.797753  4.910980"
      ]
     },
     "execution_count": 14,
     "metadata": {},
     "output_type": "execute_result"
    }
   ],
   "source": [
    "# Grouping the data by payment method and aggregating the statistics\n",
    "cashncard_df = coffee_df.groupby('cash_type')['money'].agg(['max','min','mean','std']).reset_index()\n",
    "cashncard_df"
   ]
  },
  {
   "cell_type": "markdown",
   "id": "07b21c7f",
   "metadata": {
    "papermill": {
     "duration": 0.012035,
     "end_time": "2024-10-29T04:12:44.464287",
     "exception": false,
     "start_time": "2024-10-29T04:12:44.452252",
     "status": "completed"
    },
    "tags": []
   },
   "source": [
    "### Visualizing the Data on Multiple Bar Charts"
   ]
  },
  {
   "cell_type": "code",
   "execution_count": 15,
   "id": "e5267a24",
   "metadata": {
    "execution": {
     "iopub.execute_input": "2024-10-29T04:12:44.490992Z",
     "iopub.status.busy": "2024-10-29T04:12:44.490112Z",
     "iopub.status.idle": "2024-10-29T04:12:44.498388Z",
     "shell.execute_reply": "2024-10-29T04:12:44.497333Z"
    },
    "papermill": {
     "duration": 0.023893,
     "end_time": "2024-10-29T04:12:44.500479",
     "exception": false,
     "start_time": "2024-10-29T04:12:44.476586",
     "status": "completed"
    },
    "tags": []
   },
   "outputs": [],
   "source": [
    "# Making it into long format as it is easier to use Grouped Bar Charts with Seaborn\n",
    "cashncard_df = cashncard_df.melt(id_vars='cash_type', var_name='Statistic', value_name='Value')"
   ]
  },
  {
   "cell_type": "code",
   "execution_count": 16,
   "id": "d92b69e8",
   "metadata": {
    "execution": {
     "iopub.execute_input": "2024-10-29T04:12:44.527087Z",
     "iopub.status.busy": "2024-10-29T04:12:44.526156Z",
     "iopub.status.idle": "2024-10-29T04:12:44.961510Z",
     "shell.execute_reply": "2024-10-29T04:12:44.960423Z"
    },
    "papermill": {
     "duration": 0.451524,
     "end_time": "2024-10-29T04:12:44.964224",
     "exception": false,
     "start_time": "2024-10-29T04:12:44.512700",
     "status": "completed"
    },
    "tags": []
   },
   "outputs": [
    {
     "data": {
      "image/png": "[encoded data removed]",
      "text/plain": [
       "<Figure size 800x600 with 1 Axes>"
      ]
     },
     "metadata": {},
     "output_type": "display_data"
    }
   ],
   "source": [
    "# Plot the grouped bar chart with Seaborn\n",
    "plt.figure(figsize=(8, 6))\n",
    "ax = sns.barplot(data=cashncard_df, x='Statistic', y='Value', hue='cash_type', palette='pastel')\n",
    "\n",
    "# Adding annotations\n",
    "for p in ax.patches:\n",
    "    ax.annotate(f'{p.get_height():.2f}', \n",
    "                (p.get_x() + p.get_width() / 2., p.get_height()), \n",
    "                ha='center', va='bottom')\n",
    "\n",
    "# Adding Title and Axis Labels\n",
    "ax.set_title('Comparison of Purchase Amount by Payment Method')\n",
    "ax.set_ylabel('Purchase Amount (in Dollars)')\n",
    "ax.set_xlabel('Statistic')\n",
    "\n",
    "plt.tight_layout()\n",
    "plt.show()"
   ]
  },
  {
   "cell_type": "markdown",
   "id": "88022463",
   "metadata": {
    "papermill": {
     "duration": 0.01258,
     "end_time": "2024-10-29T04:12:44.989970",
     "exception": false,
     "start_time": "2024-10-29T04:12:44.977390",
     "status": "completed"
    },
    "tags": []
   },
   "source": [
    "Based on that chart we can say that the customers that paid using cash, on average, spent more than the customers that paid using card. Even the most amount of money that was spent by cash payers, and also the least amount spent, are higher than those of card users. And, by the lower standard deviation it has, we can also said that the cash group are more uniform than the card group. We can clarify it by looking it in box-and-whisker plot below."
   ]
  },
  {
   "cell_type": "markdown",
   "id": "06476dce",
   "metadata": {
    "papermill": {
     "duration": 0.012433,
     "end_time": "2024-10-29T04:12:45.015481",
     "exception": false,
     "start_time": "2024-10-29T04:12:45.003048",
     "status": "completed"
    },
    "tags": []
   },
   "source": [
    "### Visualizing on Box and Whisker Plot\n",
    "\n",
    "Now, let's see the distribution of amount of the purchase by those two group in box and whisker plot, or simply box plot"
   ]
  },
  {
   "cell_type": "code",
   "execution_count": 17,
   "id": "da908755",
   "metadata": {
    "execution": {
     "iopub.execute_input": "2024-10-29T04:12:45.043424Z",
     "iopub.status.busy": "2024-10-29T04:12:45.042326Z",
     "iopub.status.idle": "2024-10-29T04:12:45.345645Z",
     "shell.execute_reply": "2024-10-29T04:12:45.344614Z"
    },
    "papermill": {
     "duration": 0.319753,
     "end_time": "2024-10-29T04:12:45.348009",
     "exception": false,
     "start_time": "2024-10-29T04:12:45.028256",
     "status": "completed"
    },
    "tags": []
   },
   "outputs": [
    {
     "data": {
      "image/png": "[encoded data removed]",
      "text/plain": [
       "<Figure size 600x600 with 1 Axes>"
      ]
     },
     "metadata": {},
     "output_type": "display_data"
    }
   ],
   "source": [
    "plt.figure(figsize=(6, 6))\n",
    "ax = sns.boxplot(data=coffee_df, x='cash_type', y='money', palette='pastel')\n",
    "\n",
    "# Adding annotations for each box's main summary statistics: median, min, and max\n",
    "for i, payment_method in enumerate(coffee_df['cash_type'].unique()):\n",
    "    median_val = coffee_df[coffee_df['cash_type'] == payment_method]['money'].median()\n",
    "    max_val = coffee_df[coffee_df['cash_type'] == payment_method]['money'].max()\n",
    "    min_val = coffee_df[coffee_df['cash_type'] == payment_method]['money'].min()\n",
    "    \n",
    "    # Annotate median\n",
    "    ax.annotate(f'Median: {median_val:.2f}', \n",
    "                xy=(i, median_val), \n",
    "                xytext=(i - 0.15, median_val + 0.2),\n",
    "                ha='center', va='bottom', color='black')\n",
    "    \n",
    "    # Annotate min and max\n",
    "    ax.annotate(f'{min_val:.2f}', \n",
    "                xy=(i, min_val - 0.2), \n",
    "                ha='center', va='top', color='black')\n",
    "    ax.annotate(f'{max_val:.2f}', \n",
    "                xy=(i, max_val + 0.2), \n",
    "                ha='center', va='bottom', color='black')\n",
    "    \n",
    "# Adding Title and Labeling the Axes\n",
    "ax.set_title('Distribution of Purchase Amount by Payment Method')\n",
    "ax.set_ylabel('Purchase Amount (in Dollars)')\n",
    "ax.set_xlabel('Payment Method')\n",
    "\n",
    "plt.tight_layout()\n",
    "plt.show()"
   ]
  },
  {
   "cell_type": "markdown",
   "id": "d1d061c0",
   "metadata": {
    "papermill": {
     "duration": 0.013431,
     "end_time": "2024-10-29T04:12:45.375240",
     "exception": false,
     "start_time": "2024-10-29T04:12:45.361809",
     "status": "completed"
    },
    "tags": []
   },
   "source": [
    "See, the _cash_ box has longer spread than those of _card_ box\n",
    "\n",
    "## The Favourite Drink\n",
    "\n",
    "Now let's see the top 3 favourites of those who paid with cash and with card"
   ]
  },
  {
   "cell_type": "code",
   "execution_count": 18,
   "id": "73464ddf",
   "metadata": {
    "execution": {
     "iopub.execute_input": "2024-10-29T04:12:45.404369Z",
     "iopub.status.busy": "2024-10-29T04:12:45.403944Z",
     "iopub.status.idle": "2024-10-29T04:12:45.410650Z",
     "shell.execute_reply": "2024-10-29T04:12:45.409745Z"
    },
    "papermill": {
     "duration": 0.023741,
     "end_time": "2024-10-29T04:12:45.412750",
     "exception": false,
     "start_time": "2024-10-29T04:12:45.389009",
     "status": "completed"
    },
    "tags": []
   },
   "outputs": [],
   "source": [
    "# Filtering only for only the card user\n",
    "card_df = coffee_df[coffee_df['cash_type']=='card']"
   ]
  },
  {
   "cell_type": "code",
   "execution_count": 19,
   "id": "1714a0cb",
   "metadata": {
    "execution": {
     "iopub.execute_input": "2024-10-29T04:12:45.489034Z",
     "iopub.status.busy": "2024-10-29T04:12:45.488663Z",
     "iopub.status.idle": "2024-10-29T04:12:45.499850Z",
     "shell.execute_reply": "2024-10-29T04:12:45.498778Z"
    },
    "papermill": {
     "duration": 0.075246,
     "end_time": "2024-10-29T04:12:45.501929",
     "exception": false,
     "start_time": "2024-10-29T04:12:45.426683",
     "status": "completed"
    },
    "tags": []
   },
   "outputs": [
    {
     "data": {
      "text/html": [
       "<div>\n",
       "<style scoped>\n",
       "    .dataframe tbody tr th:only-of-type {\n",
       "        vertical-align: middle;\n",
       "    }\n",
       "\n",
       "    .dataframe tbody tr th {\n",
       "        vertical-align: top;\n",
       "    }\n",
       "\n",
       "    .dataframe thead th {\n",
       "        text-align: right;\n",
       "    }\n",
       "</style>\n",
       "<table border=\"1\" class=\"dataframe\">\n",
       "  <thead>\n",
       "    <tr style=\"text-align: right;\">\n",
       "      <th></th>\n",
       "      <th>coffee_name</th>\n",
       "      <th>count</th>\n",
       "    </tr>\n",
       "  </thead>\n",
       "  <tbody>\n",
       "    <tr>\n",
       "      <th>0</th>\n",
       "      <td>Americano with Milk</td>\n",
       "      <td>477</td>\n",
       "    </tr>\n",
       "    <tr>\n",
       "      <th>1</th>\n",
       "      <td>Latte</td>\n",
       "      <td>448</td>\n",
       "    </tr>\n",
       "    <tr>\n",
       "      <th>2</th>\n",
       "      <td>Cappuccino</td>\n",
       "      <td>282</td>\n",
       "    </tr>\n",
       "  </tbody>\n",
       "</table>\n",
       "</div>"
      ],
      "text/plain": [
       "           coffee_name  count\n",
       "0  Americano with Milk    477\n",
       "1                Latte    448\n",
       "2           Cappuccino    282"
      ]
     },
     "execution_count": 19,
     "metadata": {},
     "output_type": "execute_result"
    }
   ],
   "source": [
    "# Counting the values of the most ordered drink by the crad users\n",
    "card_top3_df = card_df['coffee_name'].value_counts().head(3).reset_index()\n",
    "card_top3_df"
   ]
  },
  {
   "cell_type": "code",
   "execution_count": 20,
   "id": "389a14fe",
   "metadata": {
    "execution": {
     "iopub.execute_input": "2024-10-29T04:12:45.531481Z",
     "iopub.status.busy": "2024-10-29T04:12:45.531044Z",
     "iopub.status.idle": "2024-10-29T04:12:45.755490Z",
     "shell.execute_reply": "2024-10-29T04:12:45.754428Z"
    },
    "papermill": {
     "duration": 0.241988,
     "end_time": "2024-10-29T04:12:45.757991",
     "exception": false,
     "start_time": "2024-10-29T04:12:45.516003",
     "status": "completed"
    },
    "tags": []
   },
   "outputs": [
    {
     "data": {
      "image/png": "[encoded data removed]",
      "text/plain": [
       "<Figure size 600x600 with 1 Axes>"
      ]
     },
     "metadata": {},
     "output_type": "display_data"
    }
   ],
   "source": [
    "plt.figure(figsize=(6,6))\n",
    "plots = sns.barplot(x='count', y='coffee_name', data=card_top3_df, palette='pastel')\n",
    "\n",
    "plt.title(\"Top 3 Favourites of Card Users Customer\")\n",
    "plt.xlabel('Number of Order')\n",
    "plt.ylabel('Name of the Coffe/Drink')\n",
    "\n",
    "for index, value in enumerate(card_top3_df['count']):\n",
    "    plt.text(value - 35, index, f'{value}', va='center')  # Adjusts position slightly to the right of each bar\n",
    "\n",
    "plt.show();"
   ]
  },
  {
   "cell_type": "markdown",
   "id": "d20880b4",
   "metadata": {
    "papermill": {
     "duration": 0.014015,
     "end_time": "2024-10-29T04:12:45.786397",
     "exception": false,
     "start_time": "2024-10-29T04:12:45.772382",
     "status": "completed"
    },
    "tags": []
   },
   "source": [
    "_Americano with Milk_ is the the favourite drink for the card users. Let's see what the favourite coffee for the cash payers."
   ]
  },
  {
   "cell_type": "code",
   "execution_count": 21,
   "id": "75bdd60a",
   "metadata": {
    "execution": {
     "iopub.execute_input": "2024-10-29T04:12:45.817051Z",
     "iopub.status.busy": "2024-10-29T04:12:45.815998Z",
     "iopub.status.idle": "2024-10-29T04:12:45.829432Z",
     "shell.execute_reply": "2024-10-29T04:12:45.828317Z"
    },
    "papermill": {
     "duration": 0.030884,
     "end_time": "2024-10-29T04:12:45.831479",
     "exception": false,
     "start_time": "2024-10-29T04:12:45.800595",
     "status": "completed"
    },
    "tags": []
   },
   "outputs": [
    {
     "data": {
      "text/html": [
       "<div>\n",
       "<style scoped>\n",
       "    .dataframe tbody tr th:only-of-type {\n",
       "        vertical-align: middle;\n",
       "    }\n",
       "\n",
       "    .dataframe tbody tr th {\n",
       "        vertical-align: top;\n",
       "    }\n",
       "\n",
       "    .dataframe thead th {\n",
       "        text-align: right;\n",
       "    }\n",
       "</style>\n",
       "<table border=\"1\" class=\"dataframe\">\n",
       "  <thead>\n",
       "    <tr style=\"text-align: right;\">\n",
       "      <th></th>\n",
       "      <th>coffee_name</th>\n",
       "      <th>count</th>\n",
       "    </tr>\n",
       "  </thead>\n",
       "  <tbody>\n",
       "    <tr>\n",
       "      <th>0</th>\n",
       "      <td>Latte</td>\n",
       "      <td>25</td>\n",
       "    </tr>\n",
       "    <tr>\n",
       "      <th>1</th>\n",
       "      <td>Americano with Milk</td>\n",
       "      <td>15</td>\n",
       "    </tr>\n",
       "    <tr>\n",
       "      <th>2</th>\n",
       "      <td>Cappuccino</td>\n",
       "      <td>15</td>\n",
       "    </tr>\n",
       "  </tbody>\n",
       "</table>\n",
       "</div>"
      ],
      "text/plain": [
       "           coffee_name  count\n",
       "0                Latte     25\n",
       "1  Americano with Milk     15\n",
       "2           Cappuccino     15"
      ]
     },
     "execution_count": 21,
     "metadata": {},
     "output_type": "execute_result"
    }
   ],
   "source": [
    "#Filtering and Counting like what we did with the card users\n",
    "cash_df = coffee_df[coffee_df['cash_type']=='cash']\n",
    "\n",
    "cash_top3_df = cash_df['coffee_name'].value_counts().head(3).reset_index()\n",
    "cash_top3_df"
   ]
  },
  {
   "cell_type": "code",
   "execution_count": 22,
   "id": "5d7fcfc7",
   "metadata": {
    "execution": {
     "iopub.execute_input": "2024-10-29T04:12:45.862161Z",
     "iopub.status.busy": "2024-10-29T04:12:45.861763Z",
     "iopub.status.idle": "2024-10-29T04:12:46.081914Z",
     "shell.execute_reply": "2024-10-29T04:12:46.080840Z"
    },
    "papermill": {
     "duration": 0.238562,
     "end_time": "2024-10-29T04:12:46.084395",
     "exception": false,
     "start_time": "2024-10-29T04:12:45.845833",
     "status": "completed"
    },
    "tags": []
   },
   "outputs": [
    {
     "data": {
      "image/png": "[encoded data removed]",
      "text/plain": [
       "<Figure size 600x600 with 1 Axes>"
      ]
     },
     "metadata": {},
     "output_type": "display_data"
    }
   ],
   "source": [
    "plt.figure(figsize=(6,6))\n",
    "plots = sns.barplot(x='count', y='coffee_name', data=cash_top3_df, palette='pastel')\n",
    "\n",
    "plt.title(\"Top 3 Favourites of Cash Payer Customers\")\n",
    "plt.xlabel('Number of Order')\n",
    "plt.ylabel('Name of the Coffe/Drink')\n",
    "\n",
    "for index, value in enumerate(cash_top3_df['count']):\n",
    "    plt.text(value - 1.5, index, f'{value}', va='center')\n",
    "\n",
    "plt.show();"
   ]
  },
  {
   "cell_type": "markdown",
   "id": "b0d9e545",
   "metadata": {
    "papermill": {
     "duration": 0.01449,
     "end_time": "2024-10-29T04:12:46.113912",
     "exception": false,
     "start_time": "2024-10-29T04:12:46.099422",
     "status": "completed"
    },
    "tags": []
   },
   "source": [
    "It turns out that cash payers favour different drink from the card users. They prefer Latte to Americano with Milk\n",
    "\n",
    "## Customer Arrival Time Distribution\n",
    "\n",
    "Assuming customers arrived shortly before placing their order, we can see the time distribution of their arrivals. Firstly, we need to extract the hour portion from the _datetime_ column"
   ]
  },
  {
   "cell_type": "code",
   "execution_count": 23,
   "id": "c57d888c",
   "metadata": {
    "execution": {
     "iopub.execute_input": "2024-10-29T04:12:46.147123Z",
     "iopub.status.busy": "2024-10-29T04:12:46.146704Z",
     "iopub.status.idle": "2024-10-29T04:12:46.155036Z",
     "shell.execute_reply": "2024-10-29T04:12:46.153451Z"
    },
    "papermill": {
     "duration": 0.027992,
     "end_time": "2024-10-29T04:12:46.157305",
     "exception": false,
     "start_time": "2024-10-29T04:12:46.129313",
     "status": "completed"
    },
    "tags": []
   },
   "outputs": [],
   "source": [
    "coffee_df['hour_only'] = coffee_df['datetime'].dt.hour"
   ]
  },
  {
   "cell_type": "code",
   "execution_count": 24,
   "id": "06237182",
   "metadata": {
    "execution": {
     "iopub.execute_input": "2024-10-29T04:12:46.189167Z",
     "iopub.status.busy": "2024-10-29T04:12:46.188740Z",
     "iopub.status.idle": "2024-10-29T04:12:46.193628Z",
     "shell.execute_reply": "2024-10-29T04:12:46.192619Z"
    },
    "papermill": {
     "duration": 0.023169,
     "end_time": "2024-10-29T04:12:46.195671",
     "exception": false,
     "start_time": "2024-10-29T04:12:46.172502",
     "status": "completed"
    },
    "tags": []
   },
   "outputs": [],
   "source": [
    "# Ignoring deprecated use_inf_as_na future warning\n",
    "import warnings\n",
    "warnings.filterwarnings(\"ignore\", category=FutureWarning)"
   ]
  },
  {
   "cell_type": "code",
   "execution_count": 25,
   "id": "a15a0dc3",
   "metadata": {
    "execution": {
     "iopub.execute_input": "2024-10-29T04:12:46.227207Z",
     "iopub.status.busy": "2024-10-29T04:12:46.226782Z",
     "iopub.status.idle": "2024-10-29T04:12:46.614557Z",
     "shell.execute_reply": "2024-10-29T04:12:46.613292Z"
    },
    "papermill": {
     "duration": 0.406619,
     "end_time": "2024-10-29T04:12:46.617245",
     "exception": false,
     "start_time": "2024-10-29T04:12:46.210626",
     "status": "completed"
    },
    "tags": []
   },
   "outputs": [
    {
     "data": {
      "image/png": "[encoded data removed]",
      "text/plain": [
       "<Figure size 1000x600 with 1 Axes>"
      ]
     },
     "metadata": {},
     "output_type": "display_data"
    }
   ],
   "source": [
    "plt.figure(figsize=(10, 6))\n",
    "sns.histplot(coffee_df['hour_only'], bins=15, kde=True)\n",
    "plt.title(\"Customer Arrival Time Distribution\")\n",
    "plt.xlabel(\"Time of Day\")\n",
    "plt.ylabel(\"Frequency\")\n",
    "plt.xticks(range(0, 24))\n",
    "plt.show()"
   ]
  },
  {
   "cell_type": "markdown",
   "id": "c4dec8b3",
   "metadata": {
    "papermill": {
     "duration": 0.015128,
     "end_time": "2024-10-29T04:12:46.647915",
     "exception": false,
     "start_time": "2024-10-29T04:12:46.632787",
     "status": "completed"
    },
    "tags": []
   },
   "source": [
    "The chart above shows that peak customer arrivals occur between 9:00 PM and 10:00 PM, followed by a secondary peak from 10:00 AM to 11:00 AM.\n",
    "\n",
    "Now let's see how the time distribution for the cash payer look like."
   ]
  },
  {
   "cell_type": "code",
   "execution_count": 26,
   "id": "c6b7461b",
   "metadata": {
    "execution": {
     "iopub.execute_input": "2024-10-29T04:12:46.681293Z",
     "iopub.status.busy": "2024-10-29T04:12:46.680113Z",
     "iopub.status.idle": "2024-10-29T04:12:46.687164Z",
     "shell.execute_reply": "2024-10-29T04:12:46.685921Z"
    },
    "papermill": {
     "duration": 0.02578,
     "end_time": "2024-10-29T04:12:46.689153",
     "exception": false,
     "start_time": "2024-10-29T04:12:46.663373",
     "status": "completed"
    },
    "tags": []
   },
   "outputs": [],
   "source": [
    "# Filtering the new dataframe that already has hour_only column\n",
    "cash_arrival_df = coffee_df[coffee_df['cash_type']=='cash']"
   ]
  },
  {
   "cell_type": "code",
   "execution_count": 27,
   "id": "076142ba",
   "metadata": {
    "execution": {
     "iopub.execute_input": "2024-10-29T04:12:46.722262Z",
     "iopub.status.busy": "2024-10-29T04:12:46.721331Z",
     "iopub.status.idle": "2024-10-29T04:12:46.735916Z",
     "shell.execute_reply": "2024-10-29T04:12:46.734814Z"
    },
    "papermill": {
     "duration": 0.033193,
     "end_time": "2024-10-29T04:12:46.738000",
     "exception": false,
     "start_time": "2024-10-29T04:12:46.704807",
     "status": "completed"
    },
    "tags": []
   },
   "outputs": [
    {
     "data": {
      "text/html": [
       "<div>\n",
       "<style scoped>\n",
       "    .dataframe tbody tr th:only-of-type {\n",
       "        vertical-align: middle;\n",
       "    }\n",
       "\n",
       "    .dataframe tbody tr th {\n",
       "        vertical-align: top;\n",
       "    }\n",
       "\n",
       "    .dataframe thead th {\n",
       "        text-align: right;\n",
       "    }\n",
       "</style>\n",
       "<table border=\"1\" class=\"dataframe\">\n",
       "  <thead>\n",
       "    <tr style=\"text-align: right;\">\n",
       "      <th></th>\n",
       "      <th>date</th>\n",
       "      <th>datetime</th>\n",
       "      <th>cash_type</th>\n",
       "      <th>card</th>\n",
       "      <th>money</th>\n",
       "      <th>coffee_name</th>\n",
       "      <th>hour_only</th>\n",
       "    </tr>\n",
       "  </thead>\n",
       "  <tbody>\n",
       "    <tr>\n",
       "      <th>12</th>\n",
       "      <td>2024-03-02</td>\n",
       "      <td>2024-03-02 10:30:35.668</td>\n",
       "      <td>cash</td>\n",
       "      <td>NaN</td>\n",
       "      <td>40.0</td>\n",
       "      <td>Latte</td>\n",
       "      <td>10</td>\n",
       "    </tr>\n",
       "    <tr>\n",
       "      <th>18</th>\n",
       "      <td>2024-03-03</td>\n",
       "      <td>2024-03-03 10:10:43.981</td>\n",
       "      <td>cash</td>\n",
       "      <td>NaN</td>\n",
       "      <td>40.0</td>\n",
       "      <td>Latte</td>\n",
       "      <td>10</td>\n",
       "    </tr>\n",
       "    <tr>\n",
       "      <th>41</th>\n",
       "      <td>2024-03-06</td>\n",
       "      <td>2024-03-06 12:30:27.089</td>\n",
       "      <td>cash</td>\n",
       "      <td>NaN</td>\n",
       "      <td>35.0</td>\n",
       "      <td>Americano with Milk</td>\n",
       "      <td>12</td>\n",
       "    </tr>\n",
       "    <tr>\n",
       "      <th>46</th>\n",
       "      <td>2024-03-07</td>\n",
       "      <td>2024-03-07 10:08:58.945</td>\n",
       "      <td>cash</td>\n",
       "      <td>NaN</td>\n",
       "      <td>40.0</td>\n",
       "      <td>Latte</td>\n",
       "      <td>10</td>\n",
       "    </tr>\n",
       "    <tr>\n",
       "      <th>49</th>\n",
       "      <td>2024-03-07</td>\n",
       "      <td>2024-03-07 11:25:43.977</td>\n",
       "      <td>cash</td>\n",
       "      <td>NaN</td>\n",
       "      <td>40.0</td>\n",
       "      <td>Latte</td>\n",
       "      <td>11</td>\n",
       "    </tr>\n",
       "  </tbody>\n",
       "</table>\n",
       "</div>"
      ],
      "text/plain": [
       "         date                datetime cash_type card  money  \\\n",
       "12 2024-03-02 2024-03-02 10:30:35.668      cash  NaN   40.0   \n",
       "18 2024-03-03 2024-03-03 10:10:43.981      cash  NaN   40.0   \n",
       "41 2024-03-06 2024-03-06 12:30:27.089      cash  NaN   35.0   \n",
       "46 2024-03-07 2024-03-07 10:08:58.945      cash  NaN   40.0   \n",
       "49 2024-03-07 2024-03-07 11:25:43.977      cash  NaN   40.0   \n",
       "\n",
       "            coffee_name  hour_only  \n",
       "12                Latte         10  \n",
       "18                Latte         10  \n",
       "41  Americano with Milk         12  \n",
       "46                Latte         10  \n",
       "49                Latte         11  "
      ]
     },
     "execution_count": 27,
     "metadata": {},
     "output_type": "execute_result"
    }
   ],
   "source": [
    "cash_arrival_df.head(5)"
   ]
  },
  {
   "cell_type": "code",
   "execution_count": 28,
   "id": "624ea0af",
   "metadata": {
    "execution": {
     "iopub.execute_input": "2024-10-29T04:12:46.771763Z",
     "iopub.status.busy": "2024-10-29T04:12:46.770770Z",
     "iopub.status.idle": "2024-10-29T04:12:47.200115Z",
     "shell.execute_reply": "2024-10-29T04:12:47.199052Z"
    },
    "papermill": {
     "duration": 0.448469,
     "end_time": "2024-10-29T04:12:47.202294",
     "exception": false,
     "start_time": "2024-10-29T04:12:46.753825",
     "status": "completed"
    },
    "tags": []
   },
   "outputs": [
    {
     "data": {
      "image/png": "[encoded data removed]",
      "text/plain": [
       "<Figure size 1000x600 with 1 Axes>"
      ]
     },
     "metadata": {},
     "output_type": "display_data"
    }
   ],
   "source": [
    "plt.figure(figsize=(10, 6))\n",
    "sns.histplot(cash_arrival_df['hour_only'], bins=15, kde=True)\n",
    "plt.title(\"Customer Arrival Time Distribution:\\nCash Payer\")\n",
    "plt.xlabel(\"Time of Day\")\n",
    "plt.ylabel(\"Frequency\")\n",
    "plt.xticks(range(0, 24))\n",
    "plt.show()"
   ]
  },
  {
   "cell_type": "markdown",
   "id": "2c7d7384",
   "metadata": {
    "papermill": {
     "duration": 0.022425,
     "end_time": "2024-10-29T04:12:47.241788",
     "exception": false,
     "start_time": "2024-10-29T04:12:47.219363",
     "status": "completed"
    },
    "tags": []
   },
   "source": [
    "It's interesting to see that while the peak customer arrivals as a whole occurs between 9:00 PM and 10:00 PM, the peak for cash payer occur between 10:00 AM and 11:00 AM.\n",
    "\n",
    "We will see how the time distribution for card users look like below."
   ]
  },
  {
   "cell_type": "code",
   "execution_count": 29,
   "id": "682981a4",
   "metadata": {
    "execution": {
     "iopub.execute_input": "2024-10-29T04:12:47.287032Z",
     "iopub.status.busy": "2024-10-29T04:12:47.285927Z",
     "iopub.status.idle": "2024-10-29T04:12:47.293075Z",
     "shell.execute_reply": "2024-10-29T04:12:47.292257Z"
    },
    "papermill": {
     "duration": 0.029773,
     "end_time": "2024-10-29T04:12:47.295947",
     "exception": false,
     "start_time": "2024-10-29T04:12:47.266174",
     "status": "completed"
    },
    "tags": []
   },
   "outputs": [],
   "source": [
    "card_arrival_df = coffee_df[coffee_df['cash_type']=='card']"
   ]
  },
  {
   "cell_type": "code",
   "execution_count": 30,
   "id": "934ae427",
   "metadata": {
    "execution": {
     "iopub.execute_input": "2024-10-29T04:12:47.331946Z",
     "iopub.status.busy": "2024-10-29T04:12:47.331545Z",
     "iopub.status.idle": "2024-10-29T04:12:47.344938Z",
     "shell.execute_reply": "2024-10-29T04:12:47.343921Z"
    },
    "papermill": {
     "duration": 0.033118,
     "end_time": "2024-10-29T04:12:47.347092",
     "exception": false,
     "start_time": "2024-10-29T04:12:47.313974",
     "status": "completed"
    },
    "tags": []
   },
   "outputs": [
    {
     "data": {
      "text/html": [
       "<div>\n",
       "<style scoped>\n",
       "    .dataframe tbody tr th:only-of-type {\n",
       "        vertical-align: middle;\n",
       "    }\n",
       "\n",
       "    .dataframe tbody tr th {\n",
       "        vertical-align: top;\n",
       "    }\n",
       "\n",
       "    .dataframe thead th {\n",
       "        text-align: right;\n",
       "    }\n",
       "</style>\n",
       "<table border=\"1\" class=\"dataframe\">\n",
       "  <thead>\n",
       "    <tr style=\"text-align: right;\">\n",
       "      <th></th>\n",
       "      <th>date</th>\n",
       "      <th>datetime</th>\n",
       "      <th>cash_type</th>\n",
       "      <th>card</th>\n",
       "      <th>money</th>\n",
       "      <th>coffee_name</th>\n",
       "      <th>hour_only</th>\n",
       "    </tr>\n",
       "  </thead>\n",
       "  <tbody>\n",
       "    <tr>\n",
       "      <th>0</th>\n",
       "      <td>2024-03-01</td>\n",
       "      <td>2024-03-01 10:15:50.520</td>\n",
       "      <td>card</td>\n",
       "      <td>ANON-0000-0000-0001</td>\n",
       "      <td>38.7</td>\n",
       "      <td>Latte</td>\n",
       "      <td>10</td>\n",
       "    </tr>\n",
       "    <tr>\n",
       "      <th>1</th>\n",
       "      <td>2024-03-01</td>\n",
       "      <td>2024-03-01 12:19:22.539</td>\n",
       "      <td>card</td>\n",
       "      <td>ANON-0000-0000-0002</td>\n",
       "      <td>38.7</td>\n",
       "      <td>Hot Chocolate</td>\n",
       "      <td>12</td>\n",
       "    </tr>\n",
       "    <tr>\n",
       "      <th>2</th>\n",
       "      <td>2024-03-01</td>\n",
       "      <td>2024-03-01 12:20:18.089</td>\n",
       "      <td>card</td>\n",
       "      <td>ANON-0000-0000-0002</td>\n",
       "      <td>38.7</td>\n",
       "      <td>Hot Chocolate</td>\n",
       "      <td>12</td>\n",
       "    </tr>\n",
       "    <tr>\n",
       "      <th>3</th>\n",
       "      <td>2024-03-01</td>\n",
       "      <td>2024-03-01 13:46:33.006</td>\n",
       "      <td>card</td>\n",
       "      <td>ANON-0000-0000-0003</td>\n",
       "      <td>28.9</td>\n",
       "      <td>Americano</td>\n",
       "      <td>13</td>\n",
       "    </tr>\n",
       "    <tr>\n",
       "      <th>4</th>\n",
       "      <td>2024-03-01</td>\n",
       "      <td>2024-03-01 13:48:14.626</td>\n",
       "      <td>card</td>\n",
       "      <td>ANON-0000-0000-0004</td>\n",
       "      <td>38.7</td>\n",
       "      <td>Latte</td>\n",
       "      <td>13</td>\n",
       "    </tr>\n",
       "  </tbody>\n",
       "</table>\n",
       "</div>"
      ],
      "text/plain": [
       "        date                datetime cash_type                 card  money  \\\n",
       "0 2024-03-01 2024-03-01 10:15:50.520      card  ANON-0000-0000-0001   38.7   \n",
       "1 2024-03-01 2024-03-01 12:19:22.539      card  ANON-0000-0000-0002   38.7   \n",
       "2 2024-03-01 2024-03-01 12:20:18.089      card  ANON-0000-0000-0002   38.7   \n",
       "3 2024-03-01 2024-03-01 13:46:33.006      card  ANON-0000-0000-0003   28.9   \n",
       "4 2024-03-01 2024-03-01 13:48:14.626      card  ANON-0000-0000-0004   38.7   \n",
       "\n",
       "     coffee_name  hour_only  \n",
       "0          Latte         10  \n",
       "1  Hot Chocolate         12  \n",
       "2  Hot Chocolate         12  \n",
       "3      Americano         13  \n",
       "4          Latte         13  "
      ]
     },
     "execution_count": 30,
     "metadata": {},
     "output_type": "execute_result"
    }
   ],
   "source": [
    "card_arrival_df.head(5)"
   ]
  },
  {
   "cell_type": "code",
   "execution_count": 31,
   "id": "bb33aaf5",
   "metadata": {
    "execution": {
     "iopub.execute_input": "2024-10-29T04:12:47.382602Z",
     "iopub.status.busy": "2024-10-29T04:12:47.381836Z",
     "iopub.status.idle": "2024-10-29T04:12:47.795744Z",
     "shell.execute_reply": "2024-10-29T04:12:47.794715Z"
    },
    "papermill": {
     "duration": 0.434067,
     "end_time": "2024-10-29T04:12:47.797939",
     "exception": false,
     "start_time": "2024-10-29T04:12:47.363872",
     "status": "completed"
    },
    "tags": []
   },
   "outputs": [
    {
     "data": {
      "image/png": "[encoded data removed]",
      "text/plain": [
       "<Figure size 1000x600 with 1 Axes>"
      ]
     },
     "metadata": {},
     "output_type": "display_data"
    }
   ],
   "source": [
    "plt.figure(figsize=(10, 6))\n",
    "sns.histplot(card_arrival_df['hour_only'], bins=15, kde=True)\n",
    "plt.title(\"Customer Arrival Time Distribution:\\nCard User\")\n",
    "plt.xlabel(\"Time of Day\")\n",
    "plt.ylabel(\"Frequency\")\n",
    "plt.xticks(range(0, 24))\n",
    "plt.show()"
   ]
  },
  {
   "cell_type": "markdown",
   "id": "acf25b4b",
   "metadata": {
    "papermill": {
     "duration": 0.016957,
     "end_time": "2024-10-29T04:12:47.832202",
     "exception": false,
     "start_time": "2024-10-29T04:12:47.815245",
     "status": "completed"
    },
    "tags": []
   },
   "source": [
    "As the chart for the peak for overall customers suggests, the peak for card user, which is the majority of the customers, occurs between 9:00 PM and 10:00 PM.\n",
    "\n",
    "## Conclusion\n",
    "\n",
    "From our analysis, we can see that cash-paying customers tend to spend more on average than those paying by card, with both the highest and lowest cash spends being above those of card users. The cash group also shows more consistent spending, which we can spot by its lower standard deviation.\n",
    "\n",
    "Interestingly, cash payers have different drink preferences too, while card users' top choice is _Americano with Milk_, cash payers'top choice is _Latte_.\n",
    "\n",
    "Looking at arrival times, customer visits peak in the evening from 9:00 PM to 10:00 PM, with a second peak in the morning from 10:00 AM to 11:00 AM. Cash payers mostly show up around the morning peak, while card users—the majority—line up with the evening peak.\n",
    "\n",
    "Overall, these patterns help us understand spending habits, preferences, and when customers are most likely to visit, giving us a clearer picture of customer behavior.\""
   ]
  }
 ],
 "metadata": {
  "kaggle": {
   "accelerator": "none",
   "dataSources": [
    {
     "datasetId": 5328600,
     "sourceId": 9681218,
     "sourceType": "datasetVersion"
    }
   ],
   "dockerImageVersionId": 30761,
   "isGpuEnabled": false,
   "isInternetEnabled": true,
   "language": "python",
   "sourceType": "notebook"
  },
  "kernelspec": {
   "display_name": "Python 3",
   "language": "python",
   "name": "python3"
  },
  "language_info": {
   "codemirror_mode": {
    "name": "ipython",
    "version": 3
   },
   "file_extension": ".py",
   "mimetype": "text/x-python",
   "name": "python",
   "nbconvert_exporter": "python",
   "pygments_lexer": "ipython3",
   "version": "3.10.14"
  },
  "papermill": {
   "default_parameters": {},
   "duration": 10.064123,
   "end_time": "2024-10-29T04:12:48.469954",
   "environment_variables": {},
   "exception": null,
   "input_path": "__notebook__.ipynb",
   "output_path": "__notebook__.ipynb",
   "parameters": {},
   "start_time": "2024-10-29T04:12:38.405831",
   "version": "2.6.0"
  }
 },
 "nbformat": 4,
 "nbformat_minor": 5
}
